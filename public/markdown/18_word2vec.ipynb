{
  "nbformat": 4,
  "nbformat_minor": 0,
  "metadata": {
    "colab": {
      "provenance": []
    },
    "kernelspec": {
      "name": "python3",
      "display_name": "Python 3"
    },
    "language_info": {
      "name": "python"
    }
  },
  "cells": [
    {
      "cell_type": "code",
      "source": [
        "!pip install gensim"
      ],
      "metadata": {
        "colab": {
          "base_uri": "https://localhost:8080/",
          "height": 708
        },
        "id": "mqNj06Qng1sq",
        "outputId": "6b44599e-c237-41a3-d262-280f26e6b404"
      },
      "execution_count": 1,
      "outputs": [
        {
          "output_type": "stream",
          "name": "stdout",
          "text": [
            "Collecting gensim\n",
            "  Downloading gensim-4.3.3-cp312-cp312-manylinux_2_17_x86_64.manylinux2014_x86_64.whl.metadata (8.1 kB)\n",
            "Collecting numpy<2.0,>=1.18.5 (from gensim)\n",
            "  Downloading numpy-1.26.4-cp312-cp312-manylinux_2_17_x86_64.manylinux2014_x86_64.whl.metadata (61 kB)\n",
            "\u001b[2K     \u001b[90m━━━━━━━━━━━━━━━━━━━━━━━━━━━━━━━━━━━━━━━━\u001b[0m \u001b[32m61.0/61.0 kB\u001b[0m \u001b[31m2.7 MB/s\u001b[0m eta \u001b[36m0:00:00\u001b[0m\n",
            "\u001b[?25hCollecting scipy<1.14.0,>=1.7.0 (from gensim)\n",
            "  Downloading scipy-1.13.1-cp312-cp312-manylinux_2_17_x86_64.manylinux2014_x86_64.whl.metadata (60 kB)\n",
            "\u001b[2K     \u001b[90m━━━━━━━━━━━━━━━━━━━━━━━━━━━━━━━━━━━━━━━━\u001b[0m \u001b[32m60.6/60.6 kB\u001b[0m \u001b[31m4.3 MB/s\u001b[0m eta \u001b[36m0:00:00\u001b[0m\n",
            "\u001b[?25hRequirement already satisfied: smart-open>=1.8.1 in /usr/local/lib/python3.12/dist-packages (from gensim) (7.3.1)\n",
            "Requirement already satisfied: wrapt in /usr/local/lib/python3.12/dist-packages (from smart-open>=1.8.1->gensim) (1.17.3)\n",
            "Downloading gensim-4.3.3-cp312-cp312-manylinux_2_17_x86_64.manylinux2014_x86_64.whl (26.6 MB)\n",
            "\u001b[2K   \u001b[90m━━━━━━━━━━━━━━━━━━━━━━━━━━━━━━━━━━━━━━━━\u001b[0m \u001b[32m26.6/26.6 MB\u001b[0m \u001b[31m67.6 MB/s\u001b[0m eta \u001b[36m0:00:00\u001b[0m\n",
            "\u001b[?25hDownloading numpy-1.26.4-cp312-cp312-manylinux_2_17_x86_64.manylinux2014_x86_64.whl (18.0 MB)\n",
            "\u001b[2K   \u001b[90m━━━━━━━━━━━━━━━━━━━━━━━━━━━━━━━━━━━━━━━━\u001b[0m \u001b[32m18.0/18.0 MB\u001b[0m \u001b[31m87.2 MB/s\u001b[0m eta \u001b[36m0:00:00\u001b[0m\n",
            "\u001b[?25hDownloading scipy-1.13.1-cp312-cp312-manylinux_2_17_x86_64.manylinux2014_x86_64.whl (38.2 MB)\n",
            "\u001b[2K   \u001b[90m━━━━━━━━━━━━━━━━━━━━━━━━━━━━━━━━━━━━━━━━\u001b[0m \u001b[32m38.2/38.2 MB\u001b[0m \u001b[31m15.9 MB/s\u001b[0m eta \u001b[36m0:00:00\u001b[0m\n",
            "\u001b[?25hInstalling collected packages: numpy, scipy, gensim\n",
            "  Attempting uninstall: numpy\n",
            "    Found existing installation: numpy 2.0.2\n",
            "    Uninstalling numpy-2.0.2:\n",
            "      Successfully uninstalled numpy-2.0.2\n",
            "  Attempting uninstall: scipy\n",
            "    Found existing installation: scipy 1.16.2\n",
            "    Uninstalling scipy-1.16.2:\n",
            "      Successfully uninstalled scipy-1.16.2\n",
            "\u001b[31mERROR: pip's dependency resolver does not currently take into account all the packages that are installed. This behaviour is the source of the following dependency conflicts.\n",
            "opencv-python-headless 4.12.0.88 requires numpy<2.3.0,>=2; python_version >= \"3.9\", but you have numpy 1.26.4 which is incompatible.\n",
            "opencv-python 4.12.0.88 requires numpy<2.3.0,>=2; python_version >= \"3.9\", but you have numpy 1.26.4 which is incompatible.\n",
            "tsfresh 0.21.1 requires scipy>=1.14.0; python_version >= \"3.10\", but you have scipy 1.13.1 which is incompatible.\n",
            "opencv-contrib-python 4.12.0.88 requires numpy<2.3.0,>=2; python_version >= \"3.9\", but you have numpy 1.26.4 which is incompatible.\n",
            "thinc 8.3.6 requires numpy<3.0.0,>=2.0.0, but you have numpy 1.26.4 which is incompatible.\u001b[0m\u001b[31m\n",
            "\u001b[0mSuccessfully installed gensim-4.3.3 numpy-1.26.4 scipy-1.13.1\n"
          ]
        },
        {
          "output_type": "display_data",
          "data": {
            "application/vnd.colab-display-data+json": {
              "pip_warning": {
                "packages": [
                  "numpy"
                ]
              },
              "id": "81d71f4f22224df48ed4fa3b0f749fec"
            }
          },
          "metadata": {}
        }
      ]
    },
    {
      "cell_type": "code",
      "execution_count": 1,
      "metadata": {
        "colab": {
          "base_uri": "https://localhost:8080/"
        },
        "id": "nvELMtdKW1e1",
        "outputId": "106313d4-acf5-4cc0-e0a0-7813e23149ff"
      },
      "outputs": [
        {
          "output_type": "stream",
          "name": "stdout",
          "text": [
            "vector(dim=100) of 'apple': [ 8.1269052e-03 -4.4467677e-03 -1.0682202e-03  1.0020925e-03\n",
            " -1.8470736e-04  1.1437262e-03  6.1126892e-03 -4.3767650e-06]\n",
            "most similar to 'apple': [('embeddings', 0.1642715334892273), ('on', 0.146149680018425), ('i', 0.050561174750328064), ('the', 0.04206450283527374), ('semantics', 0.03560653701424599)]\n",
            "cosine(sent1, sent2) = 0.4240131287316909\n"
          ]
        }
      ],
      "source": [
        "# pip install gensim\n",
        "from gensim.models import Word2Vec\n",
        "\n",
        "# ===== 1) Prepare data =====\n",
        "sentences = [\n",
        "    \"there is an apple on the table\",\n",
        "    \"an orange is on the desk\",\n",
        "    \"i love natural language processing\",\n",
        "    \"word embeddings capture semantics\",\n",
        "]\n",
        "sentences = [s.split() for s in sentences]\n",
        "\n",
        "\n",
        "# ===== 2) train Word2Vec：CBOW（sg=0） =====\n",
        "model = Word2Vec(\n",
        "    sentences,\n",
        "    vector_size=100,\n",
        "    window=5,\n",
        "    min_count=1,\n",
        "    sg=0,\n",
        "    negative=10,\n",
        "    epochs=20,\n",
        "    workers=4\n",
        ")\n",
        "\n",
        "# ===== 3) Use：vector / most similar  =====\n",
        "wv = model.wv  # KeyedVectors\n",
        "print(\"vector(dim=100) of 'apple':\", wv[\"apple\"][:8])\n",
        "\n",
        "print(\"most similar to 'apple':\", wv.most_similar(\"apple\", topn=5))\n",
        "\n",
        "# ===== 4) sentence vector Sample =====\n",
        "import numpy as np\n",
        "def sent_vec(tokens, wv):\n",
        "    vecs = [wv[w] for w in tokens if w in wv]\n",
        "    return np.mean(vecs, axis=0) if vecs else np.zeros(wv.vector_size)\n",
        "\n",
        "v1 = sent_vec(\"there is an apple\".split(), wv)\n",
        "v2 = sent_vec(\"an orange is on the desk\".split(), wv)\n",
        "cos = float(np.dot(v1, v2)/(np.linalg.norm(v1)*np.linalg.norm(v2)+1e-9))\n",
        "print(\"cosine(sent1, sent2) =\", cos)\n",
        "\n",
        "# ===== 5) Save / reload =====\n",
        "wv.save_word2vec_format(\"cbow_vectors.txt\")\n",
        "# from gensim.models import KeyedVectors\n",
        "# wv2 = KeyedVectors.load_word2vec_format(\"cbow_vectors.txt\")"
      ]
    },
    {
      "cell_type": "code",
      "source": [
        "import gensim.downloader as api\n",
        "\n",
        "# 事前学習済み GloVe (50次元) をロード\n",
        "glove = api.load(\"glove-wiki-gigaword-50\")\n",
        "\n",
        "print(\"ベクトル次元:\", glove[\"cat\"].shape)\n",
        "print(\"cat vs dog 類似度:\", glove.similarity(\"cat\", \"dog\"))\n",
        "print(\"king - man + woman ≈\", glove.most_similar(positive=[\"king\",\"woman\"], negative=[\"man\"], topn=1))\n"
      ],
      "metadata": {
        "colab": {
          "base_uri": "https://localhost:8080/"
        },
        "id": "0GG0f0MFh8U9",
        "outputId": "6c6510a9-6250-4d93-e070-784bacd58c79"
      },
      "execution_count": 3,
      "outputs": [
        {
          "output_type": "stream",
          "name": "stdout",
          "text": [
            "[==================================================] 100.0% 66.0/66.0MB downloaded\n",
            "ベクトル次元: (50,)\n",
            "cat vs dog 類似度: 0.9218005\n",
            "king - man + woman ≈ [('queen', 0.8523604273796082)]\n"
          ]
        }
      ]
    },
    {
      "cell_type": "code",
      "source": [
        "glove[\"cat\"]"
      ],
      "metadata": {
        "colab": {
          "base_uri": "https://localhost:8080/"
        },
        "id": "2Y5oOIcAjQJp",
        "outputId": "686a23a1-1e0b-4998-cb19-12a6a0bf72dd"
      },
      "execution_count": 4,
      "outputs": [
        {
          "output_type": "execute_result",
          "data": {
            "text/plain": [
              "array([ 0.45281 , -0.50108 , -0.53714 , -0.015697,  0.22191 ,  0.54602 ,\n",
              "       -0.67301 , -0.6891  ,  0.63493 , -0.19726 ,  0.33685 ,  0.7735  ,\n",
              "        0.90094 ,  0.38488 ,  0.38367 ,  0.2657  , -0.08057 ,  0.61089 ,\n",
              "       -1.2894  , -0.22313 , -0.61578 ,  0.21697 ,  0.35614 ,  0.44499 ,\n",
              "        0.60885 , -1.1633  , -1.1579  ,  0.36118 ,  0.10466 , -0.78325 ,\n",
              "        1.4352  ,  0.18629 , -0.26112 ,  0.83275 , -0.23123 ,  0.32481 ,\n",
              "        0.14485 , -0.44552 ,  0.33497 , -0.95946 , -0.097479,  0.48138 ,\n",
              "       -0.43352 ,  0.69455 ,  0.91043 , -0.28173 ,  0.41637 , -1.2609  ,\n",
              "        0.71278 ,  0.23782 ], dtype=float32)"
            ]
          },
          "metadata": {},
          "execution_count": 4
        }
      ]
    }
  ]
}